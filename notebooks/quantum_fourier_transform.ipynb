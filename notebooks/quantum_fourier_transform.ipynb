{
 "cells": [
  {
   "cell_type": "code",
   "execution_count": 1,
   "id": "f0aa5d46",
   "metadata": {},
   "outputs": [],
   "source": [
    "from qiskit import QuantumRegister, ClassicalRegister, QuantumCircuit, transpile\n",
    "from qiskit.quantum_info import SparsePauliOp\n",
    "from qiskit.transpiler import generate_preset_pass_manager\n",
    "from qiskit_ibm_runtime import QiskitRuntimeService, SamplerV2 as Sampler\n",
    "from qiskit_aer import AerSimulator\n",
    "from qiskit.circuit.library import QFT\n",
    "from qiskit_ibm_runtime import EstimatorV2 as Estimator\n",
    "from qiskit.visualization import plot_bloch_vector, plot_histogram\n",
    "import matplotlib.pyplot as plt\n",
    "import numpy as np"
   ]
  },
  {
   "cell_type": "code",
   "execution_count": 2,
   "id": "30dc4acd",
   "metadata": {},
   "outputs": [],
   "source": [
    "# Setting up registers and circuits\n",
    "# One qubit per gate tested\n",
    "qreg_q = QuantumRegister(3, 'q')\n",
    "creg_c = ClassicalRegister(0, 'c')\n",
    "circuit = QuantumCircuit(qreg_q, creg_c)"
   ]
  },
  {
   "cell_type": "markdown",
   "id": "1237b605",
   "metadata": {},
   "source": [
    "### Quantum Fourier Transform\n",
    "\n",
    "The Quantum Fourier Transform is useful in a myriad of situations, including Shor's algorithm. It encodes the value of a binary number j of length n, into the phase of each qubit representing it's individual parts.\n",
    "\n",
    "The QFT can be represented by the following identity:\n",
    "\n",
    "$$\n",
    "|j\\rangle \\rightarrow {\\frac{1}{\\sqrt{2^n}}} {\\sum_{k=0}^{2^n-1}} e^\\frac{2\\pi ijk}{2^n} |k\\rangle\n",
    "$$\n",
    "\n",
    "Which deviates from its classical formula, though this is intended as we are focussing on the quantum implementation.\n",
    "\n",
    "- Introduce R gate(s)\n",
    "\n",
    "We will be using 3 different gates:\n",
    "\n",
    "### The Hadamard gate:\n",
    "\n",
    "$$\n",
    "H = \\frac{1}{\\sqrt{2}} \\begin{bmatrix} 1&1 \\\\\\ 1&-1 \\end{bmatrix}\n",
    "$$\n",
    "(Please refer to the single_qubit_gates notebook for more info on the H gate)\n",
    "### The R gate:\n",
    "\n",
    "The matrix representation of the R Gate is:\n",
    "$$\n",
    "R_{k}  = \\begin{bmatrix} 1&0 \\\\\\ 0&e^{\\frac{2\\pi i}{2^{k}}}  \\end{bmatrix}\n",
    "$$\n",
    "\n",
    "The R gate contains a variable k, which affects the phase of the qubit.\n",
    "It is a controlled gate, which means it only acts if the control is a 1\n",
    "\n",
    "$$\n",
    "R_{k}|0\\rangle \\rightarrow |0\\rangle\n",
    "$$\n",
    "$$\n",
    "R_{k}|1\\rangle \\rightarrow e^{\\frac{2\\pi i}{2^{k}}}|1\\rangle\n",
    "$$\n",
    "\n",
    "### The Swap gate:\n",
    "\n",
    "The Swap gate swaps two qubits."
   ]
  },
  {
   "cell_type": "markdown",
   "id": "4782558b",
   "metadata": {},
   "source": [
    "### Logic\n",
    "\n",
    "We will use 3 qubits for our binary number j of length n:\n",
    "$$(j_1, j_2, ...j_n)$$\n",
    "The binary representation would therefore look as follows:\n",
    "$$(j_1 2^{n-1}, j_2 2^{n-2}, ...j_n 2^0)$$\n",
    "\n",
    "First, we apply the Hadamard Gate to the first qubit to put it in superposition:\n",
    "\n",
    "$$\n",
    "H|j_0\\rangle \\rightarrow \\frac{1}{\\sqrt{2}}(|0\\rangle + (-1)^{j_0}|1\\rangle)\n",
    "$$\n",
    "\n",
    "We can then represent it as follows, with the -1 being turned into polar form using eulers identity:\n",
    "\n",
    "$$\n",
    "H|j_0\\rangle \\rightarrow \\frac{1}{\\sqrt{2}}(|0\\rangle + e^{i \\pi j_0}|1\\rangle)\n",
    "$$\n",
    "\n",
    "We then turn $j_0$ into a fraction to accomodate the binary representation:\n",
    "$$\n",
    "H|j_0\\rangle \\rightarrow \\frac{1}{\\sqrt{2}}(|0\\rangle + e^{2\\pi i(\\frac{j_0}{2})}|1\\rangle)\n",
    "$$\n",
    "\n",
    "Next, we apply the first R gate, $R_2$. Note that $j_1$ is the control gate, so we can express its added relative phase as $\\left(e^{\\frac{2\\pi i}{2^2}}\\right)^{j_1}$ as we simply don't apply the phase if $j_1$ is 0. We can simplify this to:\n",
    "$$\n",
    "R_2H|j_0\\rangle \\rightarrow \\frac{1}{\\sqrt{2}}(|0\\rangle + e^{2\\pi i(\\frac{j_0}{2})} e^{2\\pi i(\\frac{j_1}{4})}|1\\rangle)\n",
    "$$\n",
    "\n",
    "Which is equal to:\n",
    "\n",
    "$$\n",
    "R_2H|j_0\\rangle \\rightarrow \\frac{1}{\\sqrt{2}}(|0\\rangle + e^{2\\pi i(\\frac{j_0}{2} + \\frac{j_1}{4})}|1\\rangle)\n",
    "$$\n",
    "\n",
    "Doing the Same for the R3 Gate, we get:\n",
    "\n",
    "$$\n",
    "R_2H|j_0\\rangle \\rightarrow \\frac{1}{\\sqrt{2}}(|0\\rangle + e^{2\\pi i(\\frac{j_0}{2} + \\frac{j_1}{4} + \\frac{j_2}{8})}|1\\rangle)\n",
    "$$\n",
    "\n",
    "We then apply the same logic to the other qubits, with $j_1$ having a hadamard and $R_2$ gate applied, and $J_2$ only having a hadamard gate applied:\n",
    "\n",
    "$$\n",
    "|\\psi\\rangle = \\frac{1}{\\sqrt{2}}(|0\\rangle + e^{2\\pi i(\\frac{j_0}{2} + \\frac{j_1}{4} + \\frac{j_2}{8})}|1\\rangle)\\;(|0\\rangle + e^{2\\pi i(\\frac{j_1}{2} + \\frac{j_2}{4})}|1\\rangle)\\;(|0\\rangle + e^{2\\pi i(\\frac{j_2}{2})}|1\\rangle)\n",
    "$$\n",
    "\n",
    "The final step is to apply a swap gate to qubits $j_0$ and $j_2$, giving us the product state:\n",
    "\n",
    "$$\n",
    "QFT = \\frac{1}{\\sqrt{2}}(|0\\rangle + e^{2\\pi i(\\frac{j_2}{2})}|1\\rangle)\\;(|0\\rangle + e^{2\\pi i(\\frac{j_1}{2} + \\frac{j_2}{4})}|1\\rangle)\\;(|0\\rangle + e^{2\\pi i(\\frac{j_0}{2} + \\frac{j_1}{4} + \\frac{j_2}{8})}|1\\rangle)\n",
    "$$\n",
    "\n",
    "We have now encoded the value of j into the phase of the qubits.\n",
    "\n",
    "To prove that our maths is right, lets try to run this circuit with the binary number:\n",
    "\n",
    "$$|j\\rangle = |3\\rangle = |011\\rangle\n",
    "$$\n"
   ]
  },
  {
   "cell_type": "markdown",
   "id": "dd47ea73",
   "metadata": {},
   "source": [
    "## Manual Implementation\n",
    "\n",
    "This is a manual implementation of the QFT to showcase our logic in code"
   ]
  },
  {
   "cell_type": "code",
   "execution_count": 3,
   "id": "b403eecb",
   "metadata": {},
   "outputs": [
    {
     "name": "stdout",
     "output_type": "stream",
     "text": [
      "        ┌───┐┌───┐                                         ░ ┌─┐      \n",
      "   q_0: ┤ X ├┤ H ├─■────────■───────────────────────────X──░─┤M├──────\n",
      "        ├───┤└───┘ │P(π/2)  │       ┌───┐               │  ░ └╥┘┌─┐   \n",
      "   q_1: ┤ X ├──────■────────┼───────┤ H ├─■─────────────┼──░──╫─┤M├───\n",
      "        └───┘               │P(π/4) └───┘ │P(π/2) ┌───┐ │  ░  ║ └╥┘┌─┐\n",
      "   q_2: ────────────────────■─────────────■───────┤ H ├─X──░──╫──╫─┤M├\n",
      "                                                  └───┘    ░  ║  ║ └╥┘\n",
      "meas: 3/══════════════════════════════════════════════════════╩══╩══╩═\n",
      "                                                              0  1  2 \n"
     ]
    },
    {
     "data": {
      "image/png": "[encoded data removed]",
      "text/plain": [
       "<Figure size 640x480 with 1 Axes>"
      ]
     },
     "execution_count": 3,
     "metadata": {},
     "output_type": "execute_result"
    }
   ],
   "source": [
    "def manual_qft(circuit: QuantumCircuit, qubits, do_swaps=True):\n",
    "    circuit.x(0)\n",
    "    circuit.x(1)\n",
    "    n = len(qubits)\n",
    "    for j in range(n):\n",
    "        circuit.h(qubits[j])\n",
    "        for m in range(j+1, n):\n",
    "            # angle = 2π / 2^{(m-j+1)}  ==  π / 2^{(m-j)}\n",
    "            theta = np.pi / (2**(m - j))\n",
    "            circuit.cp(theta, qubits[m], qubits[j])\n",
    "\n",
    "    if do_swaps:\n",
    "        # reverse order to match the canonical QFT output bit order\n",
    "        for i in range(n//2):\n",
    "            circuit.swap(qubits[i], qubits[n-1-i])\n",
    "\n",
    "    circuit.measure_all()\n",
    "    return circuit\n",
    "\n",
    "# Simulation:\n",
    "circuit = manual_qft(circuit, qreg_q)\n",
    "print(circuit)\n",
    "result = AerSimulator().run(circuit, shots=1000).result()\n",
    "counts = result.get_counts()\n",
    "plot_histogram(counts)"
   ]
  },
  {
   "cell_type": "markdown",
   "id": "9199d2db",
   "metadata": {},
   "source": [
    "## QFT Method Implementation\n",
    "\n",
    "This version uses the qft() method built into qiskit, much easier and cleaner."
   ]
  },
  {
   "cell_type": "code",
   "execution_count": 4,
   "id": "3e4f5f05",
   "metadata": {},
   "outputs": [
    {
     "name": "stdout",
     "output_type": "stream",
     "text": [
      "     ┌───┐┌──────┐\n",
      "q_0: ┤ X ├┤0     ├\n",
      "     ├───┤│      │\n",
      "q_1: ┤ X ├┤1 QFT ├\n",
      "     └───┘│      │\n",
      "q_2: ─────┤2     ├\n",
      "          └──────┘\n"
     ]
    },
    {
     "name": "stderr",
     "output_type": "stream",
     "text": [
      "/var/folders/hs/7sx42v1x0fx_c6wkjrzgzy500000gn/T/ipykernel_46206/4135278606.py:5: DeprecationWarning: The class ``qiskit.circuit.library.basis_change.qft.QFT`` is deprecated as of Qiskit 2.1. It will be removed in Qiskit 3.0. ('Use qiskit.circuit.library.QFTGate or qiskit.synthesis.qft.synth_qft_full instead, for access to all previous arguments.',)\n",
      "  qc.append(QFT(num_qubits=3, do_swaps=True, approximation_degree=0).decompose(), [0,1,2])\n"
     ]
    },
    {
     "data": {
      "image/png": "[encoded data removed]",
      "text/plain": [
       "<Figure size 640x480 with 1 Axes>"
      ]
     },
     "execution_count": 4,
     "metadata": {},
     "output_type": "execute_result"
    }
   ],
   "source": [
    "n = 3\n",
    "qc = QuantumCircuit(n)\n",
    "qc.x(0)\n",
    "qc.x(1)\n",
    "qc.append(QFT(num_qubits=3, do_swaps=True, approximation_degree=0).decompose(), [0,1,2])\n",
    "print(qc)\n",
    "\n",
    "qc.measure_all()\n",
    "\n",
    "# result = AerSimulator().run(qc, shots=100).result()\n",
    "# counts = result.get_counts()\n",
    "# print(counts)\n",
    "\n",
    "sim = AerSimulator()\n",
    "tqc = transpile(qc, sim)\n",
    "result = sim.run(tqc, shots=1000).result()\n",
    "counts = result.get_counts()\n",
    "plot_histogram(counts)"
   ]
  }
 ],
 "metadata": {
  "kernelspec": {
   "display_name": "Python 3",
   "language": "python",
   "name": "python3"
  },
  "language_info": {
   "codemirror_mode": {
    "name": "ipython",
    "version": 3
   },
   "file_extension": ".py",
   "mimetype": "text/x-python",
   "name": "python",
   "nbconvert_exporter": "python",
   "pygments_lexer": "ipython3",
   "version": "3.12.2"
  }
 },
 "nbformat": 4,
 "nbformat_minor": 5
}
