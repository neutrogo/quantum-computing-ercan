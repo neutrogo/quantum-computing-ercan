{
 "cells": [
  {
   "cell_type": "markdown",
   "id": "d006529b",
   "metadata": {},
   "source": [
    "Deutsch's Algorithm"
   ]
  },
  {
   "cell_type": "code",
   "execution_count": 91,
   "id": "5ae1f89f",
   "metadata": {},
   "outputs": [],
   "source": [
    "from qiskit import QuantumRegister, ClassicalRegister, QuantumCircuit\n",
    "from qiskit.quantum_info import SparsePauliOp\n",
    "from qiskit.transpiler import generate_preset_pass_manager\n",
    "from qiskit_ibm_runtime import QiskitRuntimeService, SamplerV2 as Sampler\n",
    "from qiskit_aer import AerSimulator\n",
    "from qiskit_ibm_runtime import EstimatorV2 as Estimator\n",
    "from qiskit.visualization import plot_bloch_vector\n",
    "import matplotlib.pyplot as plt"
   ]
  },
  {
   "cell_type": "code",
   "execution_count": 92,
   "id": "babd1753",
   "metadata": {},
   "outputs": [],
   "source": [
    "# Setting up registers and circuits\n",
    "# One qubit per gate tested\n",
    "qreg_q = QuantumRegister(2, 'q')\n",
    "creg_c = ClassicalRegister(1, 'c')\n",
    "circuit = QuantumCircuit(qreg_q, creg_c)"
   ]
  },
  {
   "cell_type": "code",
   "execution_count": 93,
   "id": "858efe7f",
   "metadata": {},
   "outputs": [
    {
     "name": "stdout",
     "output_type": "stream",
     "text": [
      "     ┌───┐      ░       ░ ┌───┐┌─┐\n",
      "q_0: ┤ H ├──────░───────░─┤ H ├┤M├\n",
      "     ├───┤┌───┐ ░ ┌───┐ ░ └───┘└╥┘\n",
      "q_1: ┤ X ├┤ H ├─░─┤ X ├─░───────╫─\n",
      "     └───┘└───┘ ░ └───┘ ░       ║ \n",
      "c: 1/═══════════════════════════╩═\n",
      "                                0 \n"
     ]
    }
   ],
   "source": [
    "init = QuantumCircuit(qreg_q, creg_c)\n",
    "init.x(qreg_q[1])\n",
    "init.h(qreg_q[0])\n",
    "init.h(qreg_q[1])\n",
    "init.barrier()\n",
    "\n",
    "# Simulate unbalanced function\n",
    "unbalanced = QuantumCircuit(qreg_q, creg_c)\n",
    "unbalanced.x(qreg_q[1])\n",
    "unbalanced.barrier()\n",
    "\n",
    "# Simulate balanced function\n",
    "balanced = QuantumCircuit(qreg_q, creg_c)\n",
    "# balanced.cx(qreg_q[0],1)\n",
    "# balanced.barrier()\n",
    "\n",
    "final = QuantumCircuit(qreg_q, creg_c)\n",
    "final.h(qreg_q[0])\n",
    "final.measure(qreg_q[0], 0)\n",
    "\n",
    "tmp = init.compose(unbalanced, qreg_q)\n",
    "circuit = tmp.compose(final, qreg_q)\n",
    "print(circuit)"
   ]
  },
  {
   "cell_type": "code",
   "execution_count": null,
   "id": "a42fde4c",
   "metadata": {},
   "outputs": [
    {
     "name": "stdout",
     "output_type": "stream",
     "text": [
      "{'0': 100}\n"
     ]
    }
   ],
   "source": [
    "# Simulating unbalanced:\n",
    "result = AerSimulator().run(circuit, shots=100).result()\n",
    "counts = result.get_counts()\n",
    "print(counts)"
   ]
  },
  {
   "cell_type": "code",
   "execution_count": 95,
   "id": "dc837637",
   "metadata": {},
   "outputs": [],
   "source": [
    "# service = QiskitRuntimeService()\n",
    "\n",
    "# backend = service.least_busy(simulator=False, operational=True)\n",
    "\n",
    "# pm = generate_preset_pass_manager(backend=backend, optimization_level=1)\n",
    "# isa_circuit = pm.run(circuit)\n",
    "\n",
    "# isa_circuit.draw(\"mpl\", idle_wires=False)"
   ]
  }
 ],
 "metadata": {
  "kernelspec": {
   "display_name": "Python 3",
   "language": "python",
   "name": "python3"
  },
  "language_info": {
   "codemirror_mode": {
    "name": "ipython",
    "version": 3
   },
   "file_extension": ".py",
   "mimetype": "text/x-python",
   "name": "python",
   "nbconvert_exporter": "python",
   "pygments_lexer": "ipython3",
   "version": "3.12.2"
  }
 },
 "nbformat": 4,
 "nbformat_minor": 5
}
