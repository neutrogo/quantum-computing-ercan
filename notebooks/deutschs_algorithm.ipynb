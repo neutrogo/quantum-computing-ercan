{
 "cells": [
  {
   "cell_type": "markdown",
   "id": "d006529b",
   "metadata": {},
   "source": [
    "Deutsch's Algorithm"
   ]
  },
  {
   "cell_type": "code",
   "execution_count": 133,
   "id": "5ae1f89f",
   "metadata": {},
   "outputs": [],
   "source": [
    "from qiskit import QuantumRegister, ClassicalRegister, QuantumCircuit\n",
    "from qiskit.quantum_info import SparsePauliOp\n",
    "from qiskit.transpiler import generate_preset_pass_manager\n",
    "from qiskit_ibm_runtime import QiskitRuntimeService, SamplerV2 as Sampler\n",
    "from qiskit_aer import AerSimulator\n",
    "from qiskit_ibm_runtime import EstimatorV2 as Estimator\n",
    "from qiskit.visualization import plot_bloch_vector, plot_histogram\n",
    "import matplotlib.pyplot as plt"
   ]
  },
  {
   "cell_type": "code",
   "execution_count": null,
   "id": "babd1753",
   "metadata": {},
   "outputs": [],
   "source": [
    "# Setting up registers and circuits\n",
    "qreg_q = QuantumRegister(2, 'q')\n",
    "creg_c = ClassicalRegister(1, 'c')\n",
    "circuit = QuantumCircuit(qreg_q, creg_c)"
   ]
  },
  {
   "cell_type": "code",
   "execution_count": 135,
   "id": "858efe7f",
   "metadata": {},
   "outputs": [
    {
     "name": "stdout",
     "output_type": "stream",
     "text": [
      "     ┌───┐      ░       ░ ┌───┐┌─┐\n",
      "q_0: ┤ H ├──────░───────░─┤ H ├┤M├\n",
      "     ├───┤┌───┐ ░ ┌───┐ ░ └───┘└╥┘\n",
      "q_1: ┤ X ├┤ H ├─░─┤ X ├─░───────╫─\n",
      "     └───┘└───┘ ░ └───┘ ░       ║ \n",
      "c: 1/═══════════════════════════╩═\n",
      "                                0 \n"
     ]
    }
   ],
   "source": [
    "init = QuantumCircuit(qreg_q, creg_c)\n",
    "init.x(qreg_q[1])\n",
    "init.h(qreg_q[0])\n",
    "init.h(qreg_q[1])\n",
    "init.barrier()\n",
    "\n",
    "# Simulate unbalanced function\n",
    "unbalanced = QuantumCircuit(qreg_q, creg_c)\n",
    "unbalanced.x(qreg_q[1])\n",
    "unbalanced.barrier()\n",
    "\n",
    "# Simulate balanced function\n",
    "balanced = QuantumCircuit(qreg_q, creg_c)\n",
    "# balanced.cx(qreg_q[0],1)\n",
    "# balanced.barrier()\n",
    "\n",
    "final = QuantumCircuit(qreg_q, creg_c)\n",
    "final.h(qreg_q[0])\n",
    "final.measure(qreg_q[0], 0)\n",
    "\n",
    "tmp = init.compose(unbalanced, qreg_q)\n",
    "circuit = tmp.compose(final, qreg_q)\n",
    "print(circuit)"
   ]
  },
  {
   "cell_type": "code",
   "execution_count": 136,
   "id": "a42fde4c",
   "metadata": {},
   "outputs": [
    {
     "name": "stdout",
     "output_type": "stream",
     "text": [
      "{'0': 100}\n"
     ]
    }
   ],
   "source": [
    "# Simulating unbalanced:\n",
    "result = AerSimulator().run(circuit, shots=100).result()\n",
    "counts = result.get_counts()\n",
    "print(counts)"
   ]
  },
  {
   "cell_type": "code",
   "execution_count": 137,
   "id": "dc837637",
   "metadata": {},
   "outputs": [],
   "source": [
    "# service = QiskitRuntimeService()\n",
    "\n",
    "# backend = service.least_busy(simulator=False, operational=True)\n",
    "\n",
    "# pm = generate_preset_pass_manager(backend=backend, optimization_level=1)\n",
    "# isa_circuit = pm.run(circuit)\n",
    "\n",
    "# isa_circuit.draw(\"mpl\", idle_wires=False)"
   ]
  },
  {
   "cell_type": "markdown",
   "id": "80d50ed0",
   "metadata": {},
   "source": [
    "Finalisation:"
   ]
  },
  {
   "cell_type": "markdown",
   "id": "0604bdd4",
   "metadata": {},
   "source": [
    "### structure:\n",
    "\n",
    "# Intro\n",
    "\n",
    "# Beginning\n",
    "# Functions\n",
    "# End\n",
    "\n",
    "# Expected vs Real results"
   ]
  },
  {
   "cell_type": "markdown",
   "id": "855794ea",
   "metadata": {},
   "source": [
    "# Deutsch's Algorithm\n",
    "\n",
    "Deutsch's Algorithm determines whether a function  \n",
    "$$\n",
    "f : \\{0,1\\} \\rightarrow \\{0,1\\}\n",
    "$$\n",
    "is **constant** (always outputs the same value) or **balanced** (outputs 0 for one input and 1 for the other).  \n",
    "Classically, this requires two evaluations, but the quantum version can decide with just one.\n",
    "\n"
   ]
  },
  {
   "cell_type": "code",
   "execution_count": 141,
   "id": "7a9b8425",
   "metadata": {},
   "outputs": [],
   "source": [
    "def deutsch_algo(oracle):\n",
    "    qreg_q = QuantumRegister(2, 'q')\n",
    "    creg_c = ClassicalRegister(1, 'c')\n",
    "    circuit = QuantumCircuit(qreg_q, creg_c)\n",
    "    circuit.x(qreg_q[1])\n",
    "    circuit.h(qreg_q[0])\n",
    "    circuit.h(qreg_q[1])\n",
    "    circuit.barrier()\n",
    "\n",
    "    circuit = circuit.compose(oracle)\n",
    "    circuit.barrier()\n",
    "\n",
    "    circuit.h(qreg_q[0])\n",
    "    circuit.measure(qreg_q[0], 0)\n",
    "\n",
    "    return circuit\n"
   ]
  },
  {
   "cell_type": "markdown",
   "id": "f96bf84e",
   "metadata": {},
   "source": [
    "## Implementing Constant and Balanced Functions\n",
    "\n",
    "Constant functions can be represented by either doing nothing (always 0) or applying an X gate (always 1).\n",
    "\n",
    "Balanced functions can be implemented in two common ways using controlled operations.\n",
    "\n",
    "For simplicity, we will pick one example from each to demonstrate (x gate for constant, cx gate for balanced)"
   ]
  },
  {
   "cell_type": "code",
   "execution_count": 139,
   "id": "9e7f8206",
   "metadata": {},
   "outputs": [],
   "source": [
    "def unbalanced():\n",
    "    unbalanced = QuantumCircuit(qreg_q, creg_c)\n",
    "    unbalanced.x(qreg_q[1])\n",
    "    return unbalanced\n",
    "\n",
    "def balanced():\n",
    "    balanced = QuantumCircuit(qreg_q, creg_c)\n",
    "    balanced.cx(qreg_q[0],1)\n",
    "    return balanced"
   ]
  },
  {
   "cell_type": "markdown",
   "id": "2a67f8ab",
   "metadata": {},
   "source": [
    "## Mathematics for Constant and Balanced Functions\n",
    "### Expected Outcomes\n",
    "\n",
    "For constant functions, the result is always the same (all 0’s or all 1’s, ignoring noise).  \n",
    "For balanced functions, the measurement outcomes should ideally be split evenly between 0 and 1."
   ]
  },
  {
   "cell_type": "code",
   "execution_count": 140,
   "id": "6de27e26",
   "metadata": {},
   "outputs": [],
   "source": [
    "for oracle in [unbalanced, balanced]:\n",
    "    circuit = deutsch_algo(oracle())\n",
    "    result = AerSimulator().run(circuit, shots=100).result()\n",
    "    counts = result.get_counts()\n",
    "    #print(counts)\n",
    "    plot_histogram(counts)"
   ]
  }
 ],
 "metadata": {
  "kernelspec": {
   "display_name": "Python 3",
   "language": "python",
   "name": "python3"
  },
  "language_info": {
   "codemirror_mode": {
    "name": "ipython",
    "version": 3
   },
   "file_extension": ".py",
   "mimetype": "text/x-python",
   "name": "python",
   "nbconvert_exporter": "python",
   "pygments_lexer": "ipython3",
   "version": "3.12.2"
  }
 },
 "nbformat": 4,
 "nbformat_minor": 5
}
