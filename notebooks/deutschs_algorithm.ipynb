{
 "cells": [
  {
   "cell_type": "code",
   "execution_count": 1,
   "id": "5ae1f89f",
   "metadata": {},
   "outputs": [],
   "source": [
    "from qiskit import QuantumRegister, ClassicalRegister, QuantumCircuit\n",
    "from qiskit_aer import AerSimulator\n",
    "from qiskit.visualization import plot_histogram"
   ]
  },
  {
   "cell_type": "code",
   "execution_count": 2,
   "id": "babd1753",
   "metadata": {},
   "outputs": [],
   "source": [
    "# Setting up registers and circuits\n",
    "def init_circuit():\n",
    "    qreg_q = QuantumRegister(2, 'q')\n",
    "    creg_c = ClassicalRegister(1, 'c')\n",
    "    circuit = QuantumCircuit(qreg_q, creg_c)\n",
    "    return circuit, qreg_q, creg_c"
   ]
  },
  {
   "cell_type": "markdown",
   "id": "855794ea",
   "metadata": {},
   "source": [
    "# Deutsch's Algorithm\n",
    "\n",
    "Deutsch's Algorithm determines whether a function  \n",
    "$$\n",
    "f : \\{0,1\\} \\rightarrow \\{0,1\\}\n",
    "$$\n",
    "is **constant** (always outputs the same value) or **balanced** (outputs 0 for one input and 1 for the other).  \n",
    "Classically, this requires two evaluations, but the quantum version can decide with just one.\n",
    "\n"
   ]
  },
  {
   "cell_type": "code",
   "execution_count": 3,
   "id": "7a9b8425",
   "metadata": {},
   "outputs": [],
   "source": [
    "def deutsch_algo(oracle):\n",
    "    circuit, qreg_q, creg_c = init_circuit()\n",
    "    circuit.x(qreg_q[1])\n",
    "    circuit.h(qreg_q[0])\n",
    "    circuit.h(qreg_q[1])\n",
    "    circuit.barrier()\n",
    "\n",
    "    circuit = circuit.compose(oracle)\n",
    "    circuit.barrier()\n",
    "\n",
    "    circuit.h(qreg_q[0])\n",
    "    circuit.measure(qreg_q[0], 0)\n",
    "\n",
    "    return circuit\n"
   ]
  },
  {
   "cell_type": "markdown",
   "id": "f96bf84e",
   "metadata": {},
   "source": [
    "## Implementing Unbalanced (Constant) and Balanced Functions\n",
    "\n",
    "Constant functions can be represented by either doing nothing (always 0) or applying an X gate (always 1).\n",
    "\n",
    "Balanced functions can be implemented in two common ways using controlled operations.\n",
    "\n",
    "For simplicity, we will pick one example from each to demonstrate (x gate for constant, cx gate for balanced)"
   ]
  },
  {
   "cell_type": "code",
   "execution_count": 4,
   "id": "9e7f8206",
   "metadata": {},
   "outputs": [],
   "source": [
    "def unbalanced():\n",
    "    circuit, qreg_q, creg_c = init_circuit()\n",
    "    circuit.x(qreg_q[1])\n",
    "    return circuit\n",
    "\n",
    "def balanced():\n",
    "    circuit, qreg_q, creg_c = init_circuit()\n",
    "    circuit.cx(qreg_q[0],1)\n",
    "    return circuit"
   ]
  },
  {
   "cell_type": "markdown",
   "id": "2a67f8ab",
   "metadata": {},
   "source": [
    "## Mathematics for Constant and Balanced Functions\n",
    "### Expected Outcomes\n",
    "\n",
    "Constant functions: the result is always 0.  \n",
    "Balanced functions: the result is always 1."
   ]
  },
  {
   "cell_type": "code",
   "execution_count": null,
   "id": "6de27e26",
   "metadata": {},
   "outputs": [
    {
     "name": "stdout",
     "output_type": "stream",
     "text": [
      "unbalanced: {'0': 100}\n",
      "balanced: {'1': 100}\n"
     ]
    },
    {
     "data": {
      "image/png": "[encoded data removed]",
      "text/plain": [
       "<Figure size 640x480 with 1 Axes>"
      ]
     },
     "execution_count": 12,
     "metadata": {},
     "output_type": "execute_result"
    }
   ],
   "source": [
    "results = []\n",
    "for oracle in [unbalanced, balanced]:\n",
    "    circuit = deutsch_algo(oracle())\n",
    "    result = AerSimulator().run(circuit, shots=100).result()\n",
    "    counts = result.get_counts()\n",
    "    print(f\"{oracle.__name__}: {counts}\")\n",
    "    results.append(counts)\n",
    "\n",
    "plot_histogram(results, legend= [\"unbalanced\", \"balanced\"])"
   ]
  },
  {
   "cell_type": "code",
   "execution_count": null,
   "id": "97de4d8f",
   "metadata": {},
   "outputs": [],
   "source": [
    "# To run on real hardware uncomment:\n",
    "\n",
    "# service = QiskitRuntimeService()\n",
    "\n",
    "# backend = service.least_busy(simulator=False, operational=True)\n",
    "\n",
    "# pm = generate_preset_pass_manager(backend=backend, optimization_level=1)\n",
    "# isa_circuit = pm.run(circuit)\n",
    "\n",
    "# isa_circuit.draw(\"mpl\", idle_wires=False)"
   ]
  }
 ],
 "metadata": {
  "kernelspec": {
   "display_name": "Python 3",
   "language": "python",
   "name": "python3"
  },
  "language_info": {
   "codemirror_mode": {
    "name": "ipython",
    "version": 3
   },
   "file_extension": ".py",
   "mimetype": "text/x-python",
   "name": "python",
   "nbconvert_exporter": "python",
   "pygments_lexer": "ipython3",
   "version": "3.12.2"
  }
 },
 "nbformat": 4,
 "nbformat_minor": 5
}
