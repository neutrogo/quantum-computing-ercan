{
 "cells": [
  {
   "cell_type": "markdown",
   "id": "3f29b742",
   "metadata": {},
   "source": [
    "This Notebook will explore the effects single qubit gates have on qubits, comparing the theory to the effects single qubit gates have on an actual qubit in a quantum computer"
   ]
  },
  {
   "cell_type": "code",
   "execution_count": 1,
   "id": "c5fcef8c",
   "metadata": {},
   "outputs": [],
   "source": [
    "from qiskit import QuantumRegister, ClassicalRegister, QuantumCircuit\n",
    "from qiskit.quantum_info import SparsePauliOp\n",
    "from qiskit.transpiler import generate_preset_pass_manager\n",
    "from qiskit_ibm_runtime import QiskitRuntimeService\n",
    "from qiskit_ibm_runtime import EstimatorV2 as Estimator"
   ]
  },
  {
   "cell_type": "code",
   "execution_count": 2,
   "id": "6baf089f",
   "metadata": {},
   "outputs": [],
   "source": [
    "#setting up registers and circuits\n",
    "# One qubit per gate tested\n",
    "qreg_q = QuantumRegister(7, 'q')\n",
    "creg_c = ClassicalRegister(7, 'c')\n",
    "circuit = QuantumCircuit(qreg_q, creg_c)"
   ]
  },
  {
   "cell_type": "markdown",
   "id": "e027bffb",
   "metadata": {},
   "source": [
    "## Identity Gate:\n",
    "\n",
    "No change expected\\\n",
    "On the Z-Basis:\n",
    "$$\n",
    "I|0\\rangle -\\rangle |0\\rangle\n",
    "$$\n",
    "$$\n",
    "I|1\\rangle -\\rangle |1\\rangle\n",
    "$$\n",
    "\n",
    "## Pauli X Gate:\n",
    "\n",
    "A rotation of 180° about the X-axis\\\n",
    "On the Z-Basis:\n",
    "$$\n",
    "X|0\\rangle -\\rangle |1\\rangle\n",
    "$$\n",
    "$$\n",
    "X|1\\rangle -\\rangle |0\\rangle\n",
    "$$\n",
    "\n",
    "## Pauli Y Gate:\n",
    "\n",
    "A rotation of 180° about the Y-axis\\\n",
    "On the Z-Basis:\n",
    "$$\n",
    "Y|0\\rangle -\\rangle i|1\\rangle\n",
    "$$\n",
    "$$\n",
    "Y|1\\rangle -\\rangle -i|0\\rangle\n",
    "$$\n",
    "\n",
    "## Pauli Z Gate:\n",
    "\n",
    "A rotation of 180° about the Z-axis\\\n",
    "On the Z-Basis:\n",
    "$$\n",
    "Z|0\\rangle -\\rangle |0\\rangle\n",
    "$$\n",
    "$$\n",
    "Z|1\\rangle -\\rangle -|1\\rangle\n",
    "$$\n",
    "\n",
    "## Phase Gate:\n",
    "\n",
    "The Square root of the Z gate (Sˆ2 = Z, Sˆ4 = I)\\\n",
    "A rotation of 90° about the Z-axis\\\n",
    "On the Z-Basis:\n",
    "$$\n",
    "S|0\\rangle -\\rangle |0\\rangle\n",
    "$$\n",
    "$$\n",
    "S|1\\rangle -\\rangle i|1\\rangle\n",
    "$$\n",
    "\n",
    "## T (pie/6) Gate:\n",
    "\n",
    "The Square root of the S gate (Tˆ2 = S, Tˆ4 = Z)\\\n",
    "A rotation of 45° about the Z-axis\\\n",
    "On the Z-Basis:\n",
    "$$\n",
    "T|0\\rangle \\rightarrow |0\\rangle\n",
    "$$\n",
    "$$\n",
    "T|1\\rangle \\rightarrow e^{i\\frac{\\pi}{4}}|1\\rangle\n",
    "$$\n",
    "\n",
    "## H (Hadamard) Gate:\n",
    "\n",
    "A rotation of 180° about the X+Z-axis (Hˆ2 = I)\\\n",
    "On the Z-Basis:\n",
    "\n",
    "$$\n",
    "H|0\\rangle \\rightarrow \\frac{1}{\\sqrt{2}}(|0\\rangle + |1\\rangle) = |+\\rangle\n",
    "$$\n",
    "$$\n",
    "H|1\\rangle \\rightarrow \\frac{1}{\\sqrt{2}}(|0\\rangle - |1\\rangle) = |-\\rangle\n",
    "$$"
   ]
  },
  {
   "cell_type": "code",
   "execution_count": 3,
   "id": "0209cf45",
   "metadata": {},
   "outputs": [
    {
     "name": "stdout",
     "output_type": "stream",
     "text": [
      "     ┌───┐┌─┐                  \n",
      "q_0: ┤ I ├┤M├──────────────────\n",
      "     ├───┤└╥┘┌─┐               \n",
      "q_1: ┤ X ├─╫─┤M├───────────────\n",
      "     ├───┤ ║ └╥┘┌─┐            \n",
      "q_2: ┤ Y ├─╫──╫─┤M├────────────\n",
      "     ├───┤ ║  ║ └╥┘┌─┐         \n",
      "q_3: ┤ Z ├─╫──╫──╫─┤M├─────────\n",
      "     ├───┤ ║  ║  ║ └╥┘┌─┐      \n",
      "q_4: ┤ S ├─╫──╫──╫──╫─┤M├──────\n",
      "     ├───┤ ║  ║  ║  ║ └╥┘┌─┐   \n",
      "q_5: ┤ T ├─╫──╫──╫──╫──╫─┤M├───\n",
      "     ├───┤ ║  ║  ║  ║  ║ └╥┘┌─┐\n",
      "q_6: ┤ H ├─╫──╫──╫──╫──╫──╫─┤M├\n",
      "     └───┘ ║  ║  ║  ║  ║  ║ └╥┘\n",
      "c: 7/══════╩══╩══╩══╩══╩══╩══╩═\n",
      "           0  1  2  3  4  5  6 \n"
     ]
    }
   ],
   "source": [
    "gates = [\n",
    "    circuit.id,\n",
    "    circuit.x,\n",
    "    circuit.y,\n",
    "    circuit.z,\n",
    "    circuit.s,\n",
    "    circuit.t,\n",
    "    circuit.h\n",
    "]\n",
    "\n",
    "# Applying each gate to its corresponding qubit\n",
    "for i, gate in enumerate(gates):\n",
    "    gate(qreg_q[i])\n",
    "\n",
    "circuit.measure(qreg_q, creg_c)\n",
    "print(circuit)"
   ]
  }
 ],
 "metadata": {
  "kernelspec": {
   "display_name": "Python 3",
   "language": "python",
   "name": "python3"
  },
  "language_info": {
   "codemirror_mode": {
    "name": "ipython",
    "version": 3
   },
   "file_extension": ".py",
   "mimetype": "text/x-python",
   "name": "python",
   "nbconvert_exporter": "python",
   "pygments_lexer": "ipython3",
   "version": "3.12.2"
  }
 },
 "nbformat": 4,
 "nbformat_minor": 5
}
